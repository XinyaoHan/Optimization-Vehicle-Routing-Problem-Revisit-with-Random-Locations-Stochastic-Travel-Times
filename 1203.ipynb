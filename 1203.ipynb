{
 "cells": [
  {
   "cell_type": "code",
   "execution_count": 3,
   "id": "bfe08061",
   "metadata": {},
   "outputs": [],
   "source": [
    "using CSV, Tables, LinearAlgebra, Random, Gurobi, JuMP"
   ]
  },
  {
   "cell_type": "code",
   "execution_count": 279,
   "id": "13807ac9",
   "metadata": {},
   "outputs": [],
   "source": [
    "demand = CSV.File(\"demand.csv\";header=false)|> Tables.matrix;\n",
    "coordinate = CSV.File(\"coordinate.csv\";header=false)|> Tables.matrix;\n",
    "time_window = CSV.File(\"time_window.csv\";header=false)|> Tables.matrix;\n",
    "V_c = CSV.File(\"V_c.csv\";header=false)|> Tables.matrix;"
   ]
  },
  {
   "cell_type": "markdown",
   "id": "1496fb7b",
   "metadata": {},
   "source": [
    "### Define Matrix\n",
    "\n",
    "Under 4 customers:\n",
    "- number_of_customers = 4,    \n",
    "- number_of_locations = 15 (1 depot + 14 customer locations)\n",
    "- time_horizon = 720\n",
    "- vehicle_capacity = 750\n",
    "\n",
    "There are 4 customers. Deliveries can be made at 15 locations (some of them may be physically the same place, but at different times). \n",
    "The time horizon is 720 minutes, and each vehicle can carry a load of up to 750 demand units.\n",
    "\n",
    "Matrix:\n",
    "* `Vc`: set of locations travelled by customer C & depot location (at index 1).    *(17 element vector)*\n",
    "* `Kc`: the number of locations travelled by customer C.    *(17 element vector)*\n",
    "* `aic` & `bic`: starting & ending time of time window for customer C at locaition i respectively.  *(17✖6 Matrix)*\n",
    "* `t`: the distance between location i and j, which we define as the time travelling between location i and j  *(63✖63 Matrix)*"
   ]
  },
  {
   "cell_type": "markdown",
   "id": "cd9e3ee7",
   "metadata": {},
   "source": [
    "#### `Vc`"
   ]
  },
  {
   "cell_type": "code",
   "execution_count": 283,
   "id": "fbac8ca1",
   "metadata": {},
   "outputs": [],
   "source": [
    "Vc = Array{Vector{Int}}(undef,size(V_c)[1]);\n",
    "for i in 1:size(V_c)[1]\n",
    "    element = V_c[i]\n",
    "    if element isa String31\n",
    "        Vc[i] = [parse(Int, s)+1 for s in split(element)]\n",
    "    end\n",
    "end\n",
    "# Vc  "
   ]
  },
  {
   "cell_type": "markdown",
   "id": "49cef156",
   "metadata": {},
   "source": [
    "#### `Kc`"
   ]
  },
  {
   "cell_type": "code",
   "execution_count": 284,
   "id": "bcb70d98",
   "metadata": {},
   "outputs": [],
   "source": [
    "Kc = Array{Int64}(undef,size(Vc)[1])\n",
    "for ind in 1:size(Vc)[1]\n",
    "    Kc[ind] = size(Vc[ind])[1]\n",
    "end\n",
    "# Kc"
   ]
  },
  {
   "cell_type": "code",
   "execution_count": 312,
   "id": "80a1c468",
   "metadata": {},
   "outputs": [
    {
     "data": {
      "text/plain": [
       "([[1], [2], [3, 4, 5, 6, 7], [8, 9, 10, 11], [12, 13, 14], [15, 16, 17, 18], [19, 20, 21, 22, 23], [24], [25], [26, 27, 28, 29, 30, 31], [32, 33, 34], [35, 36, 37, 38, 39], [40, 41, 42, 43, 44], [45], [46, 47, 48, 49], [50], [51]], [1, 1, 5, 4, 3, 4, 5, 1, 1, 6, 3, 5, 5, 1, 4, 1, 1])"
      ]
     },
     "execution_count": 312,
     "metadata": {},
     "output_type": "execute_result"
    }
   ],
   "source": [
    "Vc, Kc"
   ]
  },
  {
   "cell_type": "markdown",
   "id": "11416664",
   "metadata": {},
   "source": [
    "#### `aic` & `bic` "
   ]
  },
  {
   "cell_type": "code",
   "execution_count": 287,
   "id": "096ad83e",
   "metadata": {},
   "outputs": [
    {
     "data": {
      "text/plain": [
       "(17, 6)"
      ]
     },
     "execution_count": 287,
     "metadata": {},
     "output_type": "execute_result"
    }
   ],
   "source": [
    "n,p = size(Kc)[1], maximum(Kc)"
   ]
  },
  {
   "cell_type": "code",
   "execution_count": 288,
   "id": "c50410b2",
   "metadata": {},
   "outputs": [],
   "source": [
    "timewindow = Array{Union{Missing, Vector{Int}}}(undef, n, p);\n",
    "for i in 1:n\n",
    "    for j in 1:p\n",
    "        element = time_window[i,j]\n",
    "        if element isa String7\n",
    "            timewindow[i,j] = [parse(Int, s) for s in split(element)]\n",
    "        else\n",
    "            timewindow[i,j] = missing\n",
    "        end\n",
    "    end\n",
    "end\n",
    "# timewindow"
   ]
  },
  {
   "cell_type": "code",
   "execution_count": 289,
   "id": "2cb05f8f",
   "metadata": {},
   "outputs": [],
   "source": [
    "aic = Array{Union{Missing, Int}}(undef, n, p);\n",
    "bic = Array{Union{Missing, Int}}(undef, n, p);"
   ]
  },
  {
   "cell_type": "code",
   "execution_count": 290,
   "id": "98902427",
   "metadata": {},
   "outputs": [],
   "source": [
    "# find all the a_i^c and b_i^c\n",
    "for row_ind in 1:n\n",
    "    for col_ind_notnull in 1:Kc[row_ind]\n",
    "        aic[row_ind,col_ind_notnull] = timewindow[row_ind,col_ind_notnull][1]\n",
    "        bic[row_ind,col_ind_notnull] = timewindow[row_ind,col_ind_notnull][2]\n",
    "    end\n",
    "end"
   ]
  },
  {
   "cell_type": "code",
   "execution_count": 291,
   "id": "d67a3f82",
   "metadata": {},
   "outputs": [
    {
     "data": {
      "text/plain": [
       "17×6 Matrix{Union{Missing, Int64}}:\n",
       " 0     missing     missing     missing     missing     missing\n",
       " 0     missing     missing     missing     missing     missing\n",
       " 0  212         354         531         637            missing\n",
       " 0  140         297         338            missing     missing\n",
       " 0  332         664            missing     missing     missing\n",
       " 0  256         475         621            missing     missing\n",
       " 0  133         391         617         672            missing\n",
       " 0     missing     missing     missing     missing     missing\n",
       " 0     missing     missing     missing     missing     missing\n",
       " 0   50         145         472         603         650\n",
       " 0  312         592            missing     missing     missing\n",
       " 0   83         341         506         652            missing\n",
       " 0  178         320         417         633            missing\n",
       " 0     missing     missing     missing     missing     missing\n",
       " 0  263         497         666            missing     missing\n",
       " 0     missing     missing     missing     missing     missing\n",
       " 0     missing     missing     missing     missing     missing"
      ]
     },
     "execution_count": 291,
     "metadata": {},
     "output_type": "execute_result"
    }
   ],
   "source": [
    "aic"
   ]
  },
  {
   "cell_type": "code",
   "execution_count": 292,
   "id": "82b4ccf6",
   "metadata": {},
   "outputs": [
    {
     "data": {
      "text/plain": [
       "17×6 Matrix{Union{Missing, Int64}}:\n",
       " 720     missing     missing     missing     missing     missing\n",
       " 720     missing     missing     missing     missing     missing\n",
       "  65  213         370         542         720            missing\n",
       "  87  236         325         720            missing     missing\n",
       "   2  334         720            missing     missing     missing\n",
       "  20  310         480         720            missing     missing\n",
       "  27  150         440         670         720            missing\n",
       " 720     missing     missing     missing     missing     missing\n",
       " 720     missing     missing     missing     missing     missing\n",
       "  35   78         289         479         625         720\n",
       "  69  349         720            missing     missing     missing\n",
       "  70  166         342         549         720            missing\n",
       " 116  257         401         616         720            missing\n",
       " 720     missing     missing     missing     missing     missing\n",
       "  64  279         612         720            missing     missing\n",
       " 720     missing     missing     missing     missing     missing\n",
       " 720     missing     missing     missing     missing     missing"
      ]
     },
     "execution_count": 292,
     "metadata": {},
     "output_type": "execute_result"
    }
   ],
   "source": [
    "bic"
   ]
  },
  {
   "cell_type": "code",
   "execution_count": 293,
   "id": "f3bc8edf",
   "metadata": {},
   "outputs": [
    {
     "data": {
      "text/plain": [
       "17×6 Matrix{Union{Missing, Vector{Int64}}}:\n",
       " [0, 720]  missing     missing     missing     missing     missing\n",
       " [0, 720]  missing     missing     missing     missing     missing\n",
       " [0, 65]   [212, 213]  [354, 370]  [531, 542]  [637, 720]  missing\n",
       " [0, 87]   [140, 236]  [297, 325]  [338, 720]  missing     missing\n",
       " [0, 2]    [332, 334]  [664, 720]  missing     missing     missing\n",
       " [0, 20]   [256, 310]  [475, 480]  [621, 720]  missing     missing\n",
       " [0, 27]   [133, 150]  [391, 440]  [617, 670]  [672, 720]  missing\n",
       " [0, 720]  missing     missing     missing     missing     missing\n",
       " [0, 720]  missing     missing     missing     missing     missing\n",
       " [0, 35]   [50, 78]    [145, 289]  [472, 479]  [603, 625]  [650, 720]\n",
       " [0, 69]   [312, 349]  [592, 720]  missing     missing     missing\n",
       " [0, 70]   [83, 166]   [341, 342]  [506, 549]  [652, 720]  missing\n",
       " [0, 116]  [178, 257]  [320, 401]  [417, 616]  [633, 720]  missing\n",
       " [0, 720]  missing     missing     missing     missing     missing\n",
       " [0, 64]   [263, 279]  [497, 612]  [666, 720]  missing     missing\n",
       " [0, 720]  missing     missing     missing     missing     missing\n",
       " [0, 720]  missing     missing     missing     missing     missing"
      ]
     },
     "execution_count": 293,
     "metadata": {},
     "output_type": "execute_result"
    }
   ],
   "source": [
    "timewindow"
   ]
  },
  {
   "cell_type": "markdown",
   "id": "a75fc7ce",
   "metadata": {},
   "source": [
    "#### `t`"
   ]
  },
  {
   "cell_type": "code",
   "execution_count": 294,
   "id": "394d6455",
   "metadata": {},
   "outputs": [],
   "source": [
    "l = size(coordinate)[1]\n",
    "t = Array{Float64}(undef,l,l);\n",
    "for i in 1:l\n",
    "    for j in 1:l\n",
    "        t[i,j]=sqrt((coordinate[i,1]-coordinate[j,1])^2+(coordinate[i,2]-coordinate[j,2])^2);\n",
    "    end\n",
    "end"
   ]
  },
  {
   "cell_type": "code",
   "execution_count": 295,
   "id": "e207bdda",
   "metadata": {},
   "outputs": [
    {
     "data": {
      "text/plain": [
       "51×51 Matrix{Float64}:\n",
       "  0.0       4.81138  19.6966    56.2677  …   63.264    65.4246   0.0\n",
       "  4.81138   0.0      20.1367    55.8477      58.5466   61.6713   4.81138\n",
       " 19.6966   20.1367    0.0       36.7236      69.2032   78.5627  19.6966\n",
       " 56.2677   55.8477   36.7236     0.0         87.162   105.456   56.2677\n",
       " 30.2325   27.3202   19.4941    35.2654      54.7709   70.3375  30.2325\n",
       " 37.792    40.4688   23.6833    35.4347  …   92.8084  101.492   37.792\n",
       " 19.6966   20.1367    0.0       36.7236      69.2032   78.5627  19.6966\n",
       " 11.6738   10.3424   30.4027    66.1406      56.6931   55.042   11.6738\n",
       "  3.58395   3.54447  17.1583    53.3846      61.446    65.1849   3.58395\n",
       " 14.1743   11.8581   31.941     67.0185      53.4548   51.8541  14.1743\n",
       " 11.6738   10.3424   30.4027    66.1406  …   56.6931   55.042   11.6738\n",
       "  1.53036   6.29689  19.3768    56.0621      64.7885   66.8514   1.53036\n",
       " 83.7047   86.1707   67.6149    51.3602     133.656   146.135   83.7047\n",
       "  ⋮                                      ⋱                       ⋮\n",
       "  8.71764  10.8009   11.4183    48.1384      67.1458   72.2706   8.71764\n",
       "  7.09429   9.05886  26.7666    63.362   …   63.206    62.1626   7.09429\n",
       "  8.95866  11.0009   11.1819    47.9006      67.2304   72.4415   8.95866\n",
       " 12.7763   13.9326    7.07439   43.7974      67.6068   74.4338  12.7763\n",
       "  8.71764  10.8009   11.4183    48.1384      67.1458   72.2706   8.71764\n",
       " 33.1755   35.5458   51.769     88.3574      78.6963   67.2344  33.1755\n",
       " 63.264    58.5466   69.2032    87.162   …    0.0      29.5558  63.264\n",
       " 30.4137   28.4021   48.4164    82.7487      49.6329   39.5149  30.4137\n",
       " 73.0609   68.525    81.0819   100.636       13.584    23.5582  73.0609\n",
       " 63.264    58.5466   69.2032    87.162        0.0      29.5558  63.264\n",
       " 65.4246   61.6713   78.5627   105.456       29.5558    0.0     65.4246\n",
       "  0.0       4.81138  19.6966    56.2677  …   63.264    65.4246   0.0"
      ]
     },
     "execution_count": 295,
     "metadata": {},
     "output_type": "execute_result"
    }
   ],
   "source": [
    "t = 0.5 .* t"
   ]
  },
  {
   "cell_type": "code",
   "execution_count": 319,
   "id": "3d1e5de2",
   "metadata": {},
   "outputs": [],
   "source": [
    "using Statistics"
   ]
  },
  {
   "cell_type": "code",
   "execution_count": 316,
   "id": "a5ecc8b3",
   "metadata": {},
   "outputs": [
    {
     "data": {
      "text/plain": [
       "5309.874854826538"
      ]
     },
     "execution_count": 316,
     "metadata": {},
     "output_type": "execute_result"
    }
   ],
   "source": [
    "maximum(sum(t, dims=1))"
   ]
  },
  {
   "cell_type": "code",
   "execution_count": 323,
   "id": "41a79090",
   "metadata": {},
   "outputs": [
    {
     "data": {
      "text/plain": [
       "0.5992372592235947"
      ]
     },
     "execution_count": 323,
     "metadata": {},
     "output_type": "execute_result"
    }
   ],
   "source": [
    "(5309.874854826538 - 2128)/5309.874854826538"
   ]
  },
  {
   "cell_type": "code",
   "execution_count": 324,
   "id": "88b83678",
   "metadata": {},
   "outputs": [
    {
     "data": {
      "text/plain": [
       "0.2660077111997639"
      ]
     },
     "execution_count": 324,
     "metadata": {},
     "output_type": "execute_result"
    }
   ],
   "source": [
    "(2899.2130196331777 -2128)/2899.2130196331777"
   ]
  },
  {
   "cell_type": "code",
   "execution_count": 320,
   "id": "31a3bf69",
   "metadata": {},
   "outputs": [
    {
     "data": {
      "text/plain": [
       "2706.6306491456535"
      ]
     },
     "execution_count": 320,
     "metadata": {},
     "output_type": "execute_result"
    }
   ],
   "source": [
    "median(sum(t, dims=1))"
   ]
  },
  {
   "cell_type": "code",
   "execution_count": 321,
   "id": "4e86c0f1",
   "metadata": {},
   "outputs": [
    {
     "data": {
      "text/plain": [
       "2899.2130196331777"
      ]
     },
     "execution_count": 321,
     "metadata": {},
     "output_type": "execute_result"
    }
   ],
   "source": [
    "mean(sum(t, dims=1))"
   ]
  },
  {
   "cell_type": "code",
   "execution_count": 296,
   "id": "cd8c3d2c",
   "metadata": {},
   "outputs": [
    {
     "data": {
      "text/plain": [
       "186.36777634405115"
      ]
     },
     "execution_count": 296,
     "metadata": {},
     "output_type": "execute_result"
    }
   ],
   "source": [
    "maximum(t)"
   ]
  },
  {
   "cell_type": "markdown",
   "id": "3b03e826",
   "metadata": {},
   "source": [
    "## Model Implementation"
   ]
  },
  {
   "cell_type": "code",
   "execution_count": 299,
   "id": "e6c42d8e",
   "metadata": {},
   "outputs": [],
   "source": [
    "V = [1:size(coordinate)[1];];    # 1+14 locations traveled by customer\n",
    "C = [1:length(demand);];         # 2+4 customers, 1 is the dummy\n",
    "\n",
    "Z = [1:5;];     # number of vehicles\n",
    "T = 720;        # max time\n",
    "Q = 750000;     # max quantity per car"
   ]
  },
  {
   "cell_type": "code",
   "execution_count": 300,
   "id": "51661f7d",
   "metadata": {},
   "outputs": [
    {
     "name": "stdout",
     "output_type": "stream",
     "text": [
      "Set parameter Username\r\n",
      "Academic license - for non-commercial use only - expires 2023-08-17\r\n"
     ]
    }
   ],
   "source": [
    "model = Model(Gurobi.Optimizer);"
   ]
  },
  {
   "cell_type": "code",
   "execution_count": 301,
   "id": "5f1f0c6b",
   "metadata": {},
   "outputs": [],
   "source": [
    "@variable(model, x[i in V, j in V, z in Z], Bin); # x_ijz\n",
    "@variable(model, tau[c in C, z in Z] >= 0); # tau_cz\n",
    "@variable(model, y[z in Z, c in C] >= 0); # y_zc"
   ]
  },
  {
   "cell_type": "markdown",
   "id": "744fe2d2",
   "metadata": {},
   "source": [
    "Each customer c $\\in$ C visited location $V_c$ ($\\subseteq V$). The data should look sth like:\n",
    "\n",
    "- customer 1: [1] # dummy\n",
    "- customer 2: [2]\n",
    "- customer 3: [3,4,5,6,7]\n",
    "- customer 4: [8,9,10,11]\n",
    "\n",
    "Note, we assume all customers visited different places."
   ]
  },
  {
   "cell_type": "markdown",
   "id": "6346e0dc",
   "metadata": {},
   "source": [
    "#### (1)"
   ]
  },
  {
   "cell_type": "code",
   "execution_count": 302,
   "id": "224de600",
   "metadata": {},
   "outputs": [],
   "source": [
    "@constraint(model, [i in V, z in Z], sum(x[i,j,z] for j in V if j != i) == sum(x[j,i,z] for j in V if j != i));"
   ]
  },
  {
   "cell_type": "code",
   "execution_count": 16,
   "id": "5117ce28",
   "metadata": {},
   "outputs": [],
   "source": [
    "# for i in V\n",
    "#     @constraint(model, sum(x[i,j] for j in filter(x->x!=i,V)) == sum(x[j,i] for j in filter(x->x!=i,V)));\n",
    "# end"
   ]
  },
  {
   "cell_type": "markdown",
   "id": "5571c6ea",
   "metadata": {},
   "source": [
    "#### (2)"
   ]
  },
  {
   "cell_type": "code",
   "execution_count": 303,
   "id": "5cee2610",
   "metadata": {},
   "outputs": [],
   "source": [
    "@constraint(model, [c in C[2:end]], sum(sum(x[i,j,z] for i in Vc[c], j in V if j != i) for z in Z) == 1);"
   ]
  },
  {
   "cell_type": "code",
   "execution_count": 17,
   "id": "2dcbc21f",
   "metadata": {},
   "outputs": [],
   "source": [
    "# for c in C[2:end]\n",
    "#     Vc_c = hcat([location for location in Vc])[c] # all the nodes traveled by customer c\n",
    "#     sum_xij_c = 0\n",
    "#     for i in Vc_c\n",
    "#         for j in V if j != i\n",
    "#             sum_xij_c += x[i,j]\n",
    "#         end\n",
    "#     end\n",
    "#     @constraint(model, sum_xij_c == 1);\n",
    "# end"
   ]
  },
  {
   "cell_type": "markdown",
   "id": "403238db",
   "metadata": {},
   "source": [
    "#### (3)"
   ]
  },
  {
   "cell_type": "code",
   "execution_count": 90,
   "id": "b4ebb222",
   "metadata": {},
   "outputs": [],
   "source": [
    "# for c in C[2:end]\n",
    "#     @constraint(model, [i in 1:Kc[c]], sum(aic[c,i] * sum(x[i,j] for j in V if j != i)) <= tau[c]);\n",
    "#     @constraint(model, [i in 1:Kc[c]], sum(bic[c,i] * sum(x[i,j] for j in V if j != i)) >= tau[c]);\n",
    "# end"
   ]
  },
  {
   "cell_type": "code",
   "execution_count": 304,
   "id": "c83bf87a",
   "metadata": {},
   "outputs": [],
   "source": [
    "for c in 2:length(C),z in Z\n",
    "        sum_aic = 0\n",
    "        sum_bic = 0\n",
    "        for i in 1:Kc[c]           # Kc[c] is the number of locations visited by customer c\n",
    "            # V_no_i = V[1:length(V) .!= i]\n",
    "            sum_aic += aic[c,i] * sum(x[i,j,z] for j in V if j != i)\n",
    "            sum_bic += bic[c,i] * sum(x[i,j,z] for j in V if j != i)\n",
    "        end\n",
    "        @constraint(model, sum_aic <= tau[c,z])\n",
    "        @constraint(model, sum_bic >= tau[c,z])\n",
    "end"
   ]
  },
  {
   "cell_type": "markdown",
   "id": "c84e6fc5",
   "metadata": {},
   "source": [
    "#### (4)"
   ]
  },
  {
   "cell_type": "code",
   "execution_count": 127,
   "id": "d0432b8d",
   "metadata": {},
   "outputs": [],
   "source": [
    "# for c in C\n",
    "#     @constraint(model, [c2 in C[1:length(C) .!= c]],  tau[c] + sum(t[i,j] * x[i,j] for i in Vc[c], j in Vc[c2]) <= tau[c2] + T * ( 1- sum(x[i,j] for i in Vc[c], j in Vc[c2])));\n",
    "# end"
   ]
  },
  {
   "cell_type": "code",
   "execution_count": 305,
   "id": "d830cd6b",
   "metadata": {},
   "outputs": [],
   "source": [
    "for c in C, z in Z\n",
    "    C_no_c = C[1:length(C) .!= c]\n",
    "    for c2 in C_no_c\n",
    "        @constraint(model, tau[c,z] + sum(t[i,j]*x[i,j,z] for i in Vc[c], j in Vc[c2]) <= tau[c2,z] + T * ( 1- sum(x[i,j,z] for i in Vc[c], j in Vc[c2])));\n",
    "    end\n",
    "end"
   ]
  },
  {
   "cell_type": "markdown",
   "id": "aaeea585",
   "metadata": {},
   "source": [
    "#### (5)"
   ]
  },
  {
   "cell_type": "code",
   "execution_count": 112,
   "id": "9936cef4",
   "metadata": {},
   "outputs": [],
   "source": [
    "# for c in C\n",
    "#      @constraint(model, [z in Z, c2 in C[1:length(C) .!= c]], y[z,c] + Q * ( 1- sum(x[i,j,z] for i in Vc[c], j in Vc[c2]) )>= demand[c2] + y[z,c2])\n",
    "# end"
   ]
  },
  {
   "cell_type": "code",
   "execution_count": 23,
   "id": "48f555ef",
   "metadata": {},
   "outputs": [],
   "source": [
    "for c in C\n",
    "    C_no_c = C[1:length(C) .!= c]\n",
    "    for c2 in C_no_c\n",
    "        for z in 1:Z\n",
    "            @constraint(model, y[z,c] + Q * ( 1- sum(x[i,j,z] for i in Vc[c], j in Vc[c2]) )>= demand[c2] + y[z,c2])\n",
    "        end\n",
    "    end\n",
    "end"
   ]
  },
  {
   "cell_type": "markdown",
   "id": "37d65a96",
   "metadata": {},
   "source": [
    "#### (6)"
   ]
  },
  {
   "cell_type": "code",
   "execution_count": 306,
   "id": "561cf854",
   "metadata": {},
   "outputs": [],
   "source": [
    "@constraint(model, sum(x[1,i,z] for i in V, z in Z) <= length(Z));"
   ]
  },
  {
   "cell_type": "markdown",
   "id": "31d1e5ed",
   "metadata": {},
   "source": [
    "#### (7)"
   ]
  },
  {
   "cell_type": "code",
   "execution_count": 259,
   "id": "2df6d499",
   "metadata": {},
   "outputs": [],
   "source": [
    "# @constraint(model, [c in C, z in 1:Z], y[z,c] <= Q-demand[c]);"
   ]
  },
  {
   "cell_type": "code",
   "execution_count": 22,
   "id": "f75d69c7",
   "metadata": {},
   "outputs": [],
   "source": [
    "# for c in C\n",
    "#     for z in 1:Z\n",
    "#         @constraint(model, y[z,c]>=0)\n",
    "#         @constraint(model, y[z,c]<=Q-demand[c])\n",
    "#     end\n",
    "# end"
   ]
  },
  {
   "cell_type": "code",
   "execution_count": 307,
   "id": "7eee63b6",
   "metadata": {},
   "outputs": [],
   "source": [
    "@constraint(model, [z in Z], sum(x[1,j,z] for j in V) == 1);"
   ]
  },
  {
   "cell_type": "code",
   "execution_count": 308,
   "id": "dce6d1bb",
   "metadata": {},
   "outputs": [],
   "source": [
    "l = length(V)\n",
    "@constraint(model, [z in Z], sum(x[j,l,z] for j in V) == 1);"
   ]
  },
  {
   "cell_type": "markdown",
   "id": "0fbf994e",
   "metadata": {},
   "source": [
    "#### (8) (9) (10)"
   ]
  },
  {
   "cell_type": "code",
   "execution_count": 309,
   "id": "a30092ec",
   "metadata": {},
   "outputs": [],
   "source": [
    "@constraint(model,[c in C, z in Z], tau[c,z]<=T)\n",
    "@constraint(model,[c in C, z in Z], y[z,c]<=Q);"
   ]
  },
  {
   "cell_type": "markdown",
   "id": "d5a7ab0e",
   "metadata": {},
   "source": [
    "#### Objective"
   ]
  },
  {
   "cell_type": "code",
   "execution_count": 310,
   "id": "be19c173",
   "metadata": {},
   "outputs": [],
   "source": [
    "@objective(model, Min, sum(t[i,j] * x[i,j,z] for  z in Z, i in V, j in V if j != i)); "
   ]
  },
  {
   "cell_type": "code",
   "execution_count": null,
   "id": "7f1f16c2",
   "metadata": {},
   "outputs": [],
   "source": [
    "# @objective(model, Min, sum( t[i,j] * x[i,j] for i in V, j in filter(x->x!=i,V)));    # i != j "
   ]
  },
  {
   "cell_type": "code",
   "execution_count": 311,
   "id": "b2c580e2",
   "metadata": {},
   "outputs": [
    {
     "name": "stdout",
     "output_type": "stream",
     "text": [
      "Gurobi Optimizer version 9.5.2 build v9.5.2rc0 (win64)\r\n",
      "Thread count: 4 physical cores, 8 logical processors, using up to 8 threads\r\n",
      "Optimize a model with 1972 rows, 13175 columns and 74775 nonzeros\r\n",
      "Model fingerprint: 0xbfdd2d71\r\n",
      "Variable types: 170 continuous, 13005 integer (13005 binary)\r\n",
      "Coefficient statistics:\r\n",
      "  Matrix range     [1e+00, 9e+02]\r\n",
      "  Objective range  [2e-01, 2e+02]\r\n",
      "  Bounds range     [0e+00, 0e+00]\r\n",
      "  RHS range        [1e+00, 8e+05]\r\n",
      "Presolve removed 181 rows and 1105 columns\r\n",
      "Presolve time: 0.74s\r\n",
      "Presolved: 1791 rows, 12070 columns, 51516 nonzeros\r\n",
      "Variable types: 85 continuous, 11985 integer (11981 binary)\r\n",
      "\r\n",
      "Root relaxation: objective 1.761615e+02, 432 iterations, 0.06 seconds (0.02 work units)\r\n",
      "\r\n",
      "    Nodes    |    Current Node    |     Objective Bounds      |     Work\r\n",
      " Expl Unexpl |  Obj  Depth IntInf | Incumbent    BestBd   Gap | It/Node Time\r\n",
      "\r\n",
      "     0     0  176.16147    0   34          -  176.16147      -     -    1s\r\n",
      "     0     0  176.59668    0   38          -  176.59668      -     -    2s\r\n",
      "     0     0  176.59668    0   34          -  176.59668      -     -    5s\r\n",
      "     0     0  176.59668    0   42          -  176.59668      -     -    5s\r\n",
      "     0     0  176.59668    0   42          -  176.59668      -     -    5s\r\n",
      "     0     0  189.94233    0   50          -  189.94233      -     -    6s\r\n",
      "     0     0  191.03175    0   40          -  191.03175      -     -    6s\r\n",
      "     0     0  195.18094    0   43          -  195.18094      -     -    6s\r\n",
      "     0     0  195.18094    0   40          -  195.18094      -     -    6s\r\n",
      "     0     0  195.23100    0   49          -  195.23100      -     -    6s\r\n",
      "     0     0  198.24429    0   45          -  198.24429      -     -    6s\r\n",
      "     0     0  198.24429    0   45          -  198.24429      -     -    6s\r\n",
      "     0     0  201.34776    0   55          -  201.34776      -     -    7s\r\n",
      "     0     0  202.61199    0   50          -  202.61199      -     -    7s\r\n",
      "     0     0  202.61199    0   52          -  202.61199      -     -    7s\r\n",
      "     0     0  203.91633    0   64          -  203.91633      -     -    7s\r\n",
      "     0     0  203.91757    0   54          -  203.91757      -     -    7s\r\n",
      "     0     0  220.31700    0   46          -  220.31700      -     -    8s\r\n",
      "     0     0  220.33803    0   63          -  220.33803      -     -    8s\r\n",
      "     0     0  220.90825    0   45          -  220.90825      -     -    8s\r\n",
      "     0     0  220.90825    0   53          -  220.90825      -     -    8s\r\n",
      "     0     0  245.34708    0   82          -  245.34708      -     -    8s\r\n",
      "     0     0  245.34708    0   68          -  245.34708      -     -    8s\r\n",
      "     0     0  251.43135    0   54          -  251.43135      -     -    9s\r\n",
      "     0     0  251.43135    0   65          -  251.43135      -     -    9s\r\n",
      "     0     0  251.43135    0   43          -  251.43135      -     -    9s\r\n",
      "     0     0  251.58033    0   69          -  251.58033      -     -    9s\r\n",
      "     0     0  251.62330    0   97          -  251.62330      -     -    9s\r\n",
      "     0     0  254.85917    0   49          -  254.85917      -     -    9s\r\n",
      "     0     0  254.85917    0   49          -  254.85917      -     -   10s\r\n",
      "     0     0  254.90552    0   57          -  254.90552      -     -   10s\r\n",
      "     0     0  254.90552    0   55          -  254.90552      -     -   10s\r\n",
      "     0     2  260.11919    0   55          -  260.11919      -     -   12s\r\n",
      "    37    34  260.11919    7   66          -  260.11919      -  60.7   15s\r\n",
      "   276   243  315.07953   52   28          -  260.11919      -  41.5   20s\r\n",
      "   887   744  285.16064   28   39          -  260.11919      -  32.1   25s\r\n",
      "  1032   844  260.11919   21   39          -  260.11919      -  31.2   30s\r\n",
      "  1042   851  326.38288  112   50          -  260.80230      -  30.9   36s\r\n",
      "  1045   858  260.80230   17   48          -  260.80230      -  35.9   43s\r\n",
      "  1049   861  260.80230   18   46          -  260.80230      -  36.6   49s\r\n",
      "  1057   866  260.80230   19   61          -  260.80230      -  38.8   59s\r\n",
      "  1061   867  305.39664   19   41          -  260.80230      -  40.3   60s\r\n",
      "  1109   898  260.80230   25   40          -  260.80230      -  41.8   65s\r\n",
      "  1157   911  260.80230   30   58          -  260.80230      -  44.3   72s\r\n",
      "  1194   930  260.80230   33   43          -  260.80230      -  45.9   75s\r\n",
      "  1230   937  380.01435   37   40          -  260.80230      -  47.9   80s\r\n",
      "  1245   940  260.80230   38   56          -  260.80230      -  48.0   86s\r\n",
      "  1297   969  264.13389   42   38          -  260.80230      -  48.7   92s\r\n",
      "  1349   986  267.16181   46   35          -  260.80230      -  49.6   95s\r\n",
      "  1435  1036  268.49180   54   50          -  260.80230      -  51.3  101s\r\n",
      "  1505  1071  269.97701   61   62          -  260.80230      -  53.7  106s\r\n",
      "  1543  1088  296.96458   65   46          -  260.80230      -  56.0  112s\r\n",
      "  1579  1120  275.30137   70   48          -  260.80230      -  57.9  116s\r\n",
      "  1636  1156  275.93863   76   43          -  260.80230      -  59.6  120s\r\n",
      "  1690  1188  324.66931   82   51          -  260.80230      -  61.2  125s\r\n",
      "  1756  1225  278.29484   91   58          -  260.80230      -  62.4  130s\r\n",
      "  1818  1292  321.73380   99   41          -  260.80230      -  63.5  135s\r\n",
      "  1941  1389  279.75247  109   49          -  260.80230      -  62.8  141s\r\n",
      "  2074  1445  309.74990  117   26          -  260.80230      -  62.0  146s\r\n",
      "  2197  1509  281.06155  124   68          -  260.80230      -  62.0  151s\r\n",
      "  2255  1544  281.46404  129   50          -  260.80230      -  62.1  155s\r\n",
      "  2376  1594  283.17415  140   49          -  260.80230      -  62.1  163s\r\n",
      "  2406  1649  337.37983  146   28          -  260.80230      -  62.2  167s\r\n",
      "  2483  1684  302.48353  156   49          -  260.80230      -  62.7  170s\r\n",
      "  2658  1779  260.80230   27   49          -  260.80230      -  61.6  178s\r\n",
      "  2747  1849  262.86520   34   40          -  260.80230      -  61.5  184s\r\n",
      "  2869  1890 infeasible   44               -  260.80230      -  60.8  188s\r\n",
      "  3017  1923  361.04199   63   30          -  260.80230      -  60.0  193s\r\n",
      "  3129  1963  369.49641   85   35          -  260.80230      -  59.5  198s\r\n",
      "  3229  2044  375.27789  104   30          -  260.80230      -  59.3  203s\r\n",
      "  3363  2081  388.60863  139   22          -  260.80230      -  58.4  208s\r\n",
      "  3463  2144  464.95939  162   17          -  260.80230      -  58.5  212s\r\n",
      "  3567  2119  457.82661  185   19          -  260.80230      -  58.5  221s\r\n",
      "  3579  2206  425.65610  190   30          -  260.80230      -  58.6  228s\r\n",
      "  3711  2286  263.09556   28   46          -  260.80230      -  58.9  233s\r\n",
      "  3820  2403  328.94480   49   36          -  260.80230      -  59.5  239s\r\n",
      "  3967  2517  278.96815   68   66          -  260.80230      -  59.1  246s\r\n",
      "  4087  2660 infeasible   83               -  260.80230      -  58.8  252s\r\n",
      "  4265  2793  400.11660  121   24          -  260.80230      -  58.6  261s\r\n",
      "  4450  2918  335.02050   39   26          -  260.80230      -  58.3  270s\r\n",
      "  4632  3019  277.89174   24   41          -  260.80230      -  58.1  279s\r\n",
      "  4771  3145  342.07790   24   38          -  260.80230      -  58.2  290s\r\n",
      "  4942  3292 infeasible   52               -  260.80230      -  58.2  299s\r\n",
      "  5141  3444  381.63889   53   40          -  260.80230      -  58.5  307s\r\n",
      "  5329  3609  312.45949   74   37          -  260.80230      -  58.6  317s\r\n",
      "  5564  3776  286.37853   90   35          -  260.80230      -  58.7  326s\r\n",
      "  5787  3853  348.42961  119   31          -  260.80230      -  58.6  336s\r\n",
      "  5886  4016  405.55446  144   20          -  260.80230      -  58.6  346s\r\n",
      "  6121  4153  296.83004   41   47          -  260.80230      -  58.2  356s\r\n",
      "  6290  4321  388.45890   95   37          -  260.80230      -  58.8  367s\r\n",
      "  6469  4482  305.49093  137   53          -  260.80230      -  58.8  377s\r\n",
      "  6648  4746  321.24548  168   43          -  260.80230      -  58.9  390s\r\n",
      "\r\n",
      "Cutting planes:\r\n",
      "  Gomory: 16\r\n",
      "  Cover: 17\r\n",
      "  Implied bound: 17\r\n",
      "  Clique: 4\r\n",
      "  MIR: 51\r\n",
      "  StrongCG: 4\r\n",
      "  Flow cover: 55\r\n",
      "  Zero half: 6\r\n",
      "  RLT: 167\r\n",
      "  Relax-and-lift: 5\r\n",
      "\r\n",
      "Explored 6960 nodes (406778 simplex iterations) in 406.62 seconds (275.35 work units)\r\n",
      "Thread count was 8 (of 8 available processors)\r\n",
      "\r\n",
      "Solution count 0\r\n",
      "\r\n",
      "Solve interrupted (error code 10001)\r\n",
      "Best objective -, best bound 2.608022996450e+02, gap -\r\n",
      "\r\n",
      "User-callback calls 104211, time in user-callback 0.47 sec\r\n"
     ]
    }
   ],
   "source": [
    "optimize!(model)"
   ]
  },
  {
   "cell_type": "code",
   "execution_count": 200,
   "id": "98a0047a",
   "metadata": {},
   "outputs": [],
   "source": [
    "# value.(x)"
   ]
  },
  {
   "cell_type": "code",
   "execution_count": 201,
   "id": "c17f1d62",
   "metadata": {},
   "outputs": [
    {
     "data": {
      "text/plain": [
       "2-dimensional DenseAxisArray{Float64,2,...} with index sets:\n",
       "    Dimension 1, [1, 2, 3, 4, 5, 6]\n",
       "    Dimension 2, [1, 2, 3]\n",
       "And data, a 6×3 Matrix{Float64}:\n",
       "   0.0   0.0   0.0\n",
       "   0.0   0.0   0.0\n",
       " 212.0  -0.0  -0.0\n",
       " 140.0  -0.0  -0.0\n",
       " 332.0   0.0   0.0\n",
       "   0.0   0.0   0.0"
      ]
     },
     "execution_count": 201,
     "metadata": {},
     "output_type": "execute_result"
    }
   ],
   "source": [
    "value.(tau)"
   ]
  },
  {
   "cell_type": "code",
   "execution_count": 133,
   "id": "ee768369",
   "metadata": {},
   "outputs": [
    {
     "data": {
      "text/plain": [
       "* Solver : Gurobi\n",
       "\n",
       "* Status\n",
       "  Termination status : INFEASIBLE_OR_UNBOUNDED\n",
       "  Primal status      : NO_SOLUTION\n",
       "  Dual status        : NO_SOLUTION\n",
       "  Result count       : 0\n",
       "  Has duals          : false\n",
       "  Message from the solver:\n",
       "  \"Model was proven to be either infeasible or unbounded. To obtain a more definitive conclusion, set the DualReductions parameter to 0 and reoptimize.\"\n",
       "\n",
       "* Candidate solution\n",
       "  Objective bound      : 1.00000e+100\n",
       "\n",
       "* Work counters\n",
       "  Solve time (sec)   : 5.46537e-01\n",
       "  Barrier iterations : 0\n",
       "  Node count         : 3705\n"
      ]
     },
     "execution_count": 133,
     "metadata": {},
     "output_type": "execute_result"
    }
   ],
   "source": [
    "solution_summary(model, verbose=true)"
   ]
  }
 ],
 "metadata": {
  "kernelspec": {
   "display_name": "Julia 1.8.0",
   "language": "julia",
   "name": "julia-1.8"
  },
  "language_info": {
   "file_extension": ".jl",
   "mimetype": "application/julia",
   "name": "julia",
   "version": "1.8.0"
  }
 },
 "nbformat": 4,
 "nbformat_minor": 5
}
